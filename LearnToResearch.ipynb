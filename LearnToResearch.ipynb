{
 "cells": [
  {
   "cell_type": "markdown",
   "id": "fc64d5dd-0275-4073-9546-49a2e2ca1430",
   "metadata": {},
   "source": [
    "# Estudio final para articulo de Computación cientifica y analítica"
   ]
  },
  {
   "cell_type": "code",
   "execution_count": null,
   "id": "071e5372-e8a4-40bd-8060-879437794b6a",
   "metadata": {},
   "outputs": [],
   "source": [
    "# Installing Altair\n",
    "!pip install vega altair"
   ]
  },
  {
   "cell_type": "code",
   "execution_count": null,
   "id": "a6569adc-f5dd-4f1f-9779-b5fe73b0f7bd",
   "metadata": {},
   "outputs": [],
   "source": [
    "import pandas as pd\n",
    "import matplotlib.pyplot as plt\n",
    "import numpy as np\n",
    "\n",
    "import altair as alt\n",
    "alt.renderers.enable('default')"
   ]
  },
  {
   "cell_type": "code",
   "execution_count": null,
   "id": "fb00fe2d-8a7a-476f-a09f-a50f7ac9dea8",
   "metadata": {},
   "outputs": [],
   "source": [
    "# Enable in altair dataframe more than 5000 rows\n",
    "from altair import pipe, limit_rows, to_values\n",
    "t = lambda data: pipe(data, limit_rows(max_rows=100000), to_values)\n",
    "alt.data_transformers.register('custom', t)\n",
    "alt.data_transformers.enable('custom')"
   ]
  },
  {
   "cell_type": "code",
   "execution_count": null,
   "id": "744b1158-db8a-4a50-8f33-611804f0edaf",
   "metadata": {},
   "outputs": [],
   "source": [
    "# Graficar inline\n",
    "%matplotlib inline"
   ]
  },
  {
   "cell_type": "code",
   "execution_count": null,
   "id": "59698466-14a5-46dd-bbba-c0faba139608",
   "metadata": {},
   "outputs": [],
   "source": [
    "df =  pd.read_csv(\"./pseudo_facebook/pseudo_facebook.csv\", encoding=\"latin-1\")"
   ]
  },
  {
   "cell_type": "code",
   "execution_count": null,
   "id": "97075e70-a256-423f-b8ed-bded698d3ae8",
   "metadata": {},
   "outputs": [],
   "source": [
    "#df.head()\n",
    "df.sample()"
   ]
  },
  {
   "cell_type": "code",
   "execution_count": null,
   "id": "247c01d5-e671-4309-a65a-b312b7b75eb3",
   "metadata": {},
   "outputs": [],
   "source": [
    "df.shape"
   ]
  },
  {
   "cell_type": "markdown",
   "id": "c75d2564-cae2-4352-9402-e8eb2dc0bf79",
   "metadata": {},
   "source": [
    "## Analisis Exploratorio de Datos - EDA"
   ]
  },
  {
   "cell_type": "code",
   "execution_count": null,
   "id": "5139f95e-ea5b-4b4b-990a-9b0997b10316",
   "metadata": {},
   "outputs": [],
   "source": [
    "# Búsqueda de datos Nulos o NaN\n",
    "print(f'Columnas con valores nulos: {df.columns[df.isnull().any()]}')"
   ]
  },
  {
   "cell_type": "code",
   "execution_count": null,
   "id": "755d31ab-31ef-4d70-b60e-7ed16146c7fb",
   "metadata": {},
   "outputs": [],
   "source": [
    "# verificación de valores null en las columnas objetivo\n",
    "print('Gender: %d' % (df['gender'].isnull().sum()))\n",
    "print('Quantity Post: %d' % (df['qty_post'].isnull().sum()))"
   ]
  },
  {
   "cell_type": "code",
   "execution_count": null,
   "id": "1ec5fb12-ae7d-4d60-9d63-31531c419697",
   "metadata": {},
   "outputs": [],
   "source": [
    "# Llenar los valores NaN Cantidad de Post con 0 y convertir a int64.\n",
    "# Llenar los valores NaN Género a NotDefined\n",
    "df['qty_post'] = df['qty_post'].fillna(0)\n",
    "df['qty_post'] = df['qty_post'].astype('int64')\n",
    "df['gender'] = df['gender'].fillna('notDefined')\n",
    "df.head()"
   ]
  },
  {
   "cell_type": "code",
   "execution_count": null,
   "id": "a190988c-26c3-41ce-810c-508481f40aa0",
   "metadata": {},
   "outputs": [],
   "source": [
    "# Verificar datos Nulos o NaN\n",
    "print(f'Columnas con valores nulos: {df.columns[df.isnull().any()]}')\n",
    "print(f'Tamaño del DataFrame: {df.shape}')"
   ]
  },
  {
   "cell_type": "code",
   "execution_count": null,
   "id": "9c780e02-5ee3-49b8-a60e-1677ee80a677",
   "metadata": {},
   "outputs": [],
   "source": [
    "# filtrado de datos y sacar los datos de los que no definen el sexo para evitar sesgo de edad\n",
    "df = df[df['age'] < 100]\n",
    "df = df[df.gender.isin(['male','female'])]\n",
    "df.head()"
   ]
  },
  {
   "cell_type": "code",
   "execution_count": null,
   "id": "a4e4ed26-e4e6-4517-ba33-a6070999155e",
   "metadata": {},
   "outputs": [],
   "source": [
    "# Comprabación de datos 'NotDefinded'\n",
    "exist_NotDefined = df[df['gender'] == 'NotDefined'].sum().any()\n",
    "print(f'Existe algun NotDefined en el género: { exist_NotDefined }')"
   ]
  },
  {
   "cell_type": "markdown",
   "id": "1a239634-e93c-4344-b580-e724f886e209",
   "metadata": {},
   "source": [
    "## Descriptive Stadistic"
   ]
  },
  {
   "cell_type": "code",
   "execution_count": null,
   "id": "e6e19e1b-ab14-4c0a-bb71-27fa1b83845f",
   "metadata": {},
   "outputs": [],
   "source": [
    "df.groupby(['gender']).agg({\n",
    "    'userid': ['min','max'],\n",
    "    'qty_post': ['mean','median','std', 'count']\n",
    "}).round(2)"
   ]
  },
  {
   "cell_type": "code",
   "execution_count": null,
   "id": "9aaf7c2d-05f9-49c0-9295-6b5be36a45f9",
   "metadata": {},
   "outputs": [],
   "source": [
    "alt.Chart(df).mark_bar().encode(\n",
    "    alt.X('count():Q'),\n",
    "    alt.Y('gender:N', sort = '-x'),\n",
    "    alt.Color('gender:N'),\n",
    "    tooltip = [alt.Tooltip('count():Q')]\n",
    ").properties(\n",
    "   width = 500,\n",
    "   height = 50\n",
    ")"
   ]
  },
  {
   "cell_type": "code",
   "execution_count": null,
   "id": "4f969570-f546-4bc9-a0fc-3f138c07b231",
   "metadata": {},
   "outputs": [],
   "source": [
    "alt.Chart(df).mark_boxplot().encode(\n",
    "    alt.Y('qty_post:Q'),\n",
    "    alt.X('gender:N'),\n",
    "    alt.Color('gender:N')\n",
    ").properties(\n",
    "    width = 1000,\n",
    "    height = 250\n",
    ")"
   ]
  },
  {
   "cell_type": "code",
   "execution_count": null,
   "id": "50e76673-090d-4bbf-959e-eec6ad0b9bb3",
   "metadata": {},
   "outputs": [],
   "source": [
    "alt.Chart(df).mark_point(filled = True).encode(\n",
    "    alt.X('mobile_likes_received:Q'),\n",
    "    alt.Y('www_likes_received:Q'),\n",
    "    alt.Size('age:Q'),\n",
    "    alt.Color('gender:N'),\n",
    "    alt.OpacityValue(0.7),\n",
    "    tooltip = [alt.Tooltip('mobile_likes_received:Q'),\n",
    "               alt.Tooltip('www_likes_received:Q'),\n",
    "               alt.Tooltip('gender:N'),\n",
    "               alt.Tooltip('age:O')]\n",
    ").properties(\n",
    "    title = 'Correlación entre Likes por Móvil vs Likes por PC',\n",
    "    width = 600,\n",
    "    height = 500\n",
    ").interactive()"
   ]
  },
  {
   "cell_type": "code",
   "execution_count": null,
   "id": "3e07299f-27a8-4918-a76c-028013d82407",
   "metadata": {},
   "outputs": [],
   "source": [
    "qty_post_he = df.groupby(['gender']).agg({\n",
    "    'likes': ['min','max'],\n",
    "    'mobile_likes': ['min','max'],\n",
    "    'www_likes': ['min','max'],\n",
    "    'qty_post': ['min','max']\n",
    "}).round(2)\n",
    "\n",
    "qty_post_he"
   ]
  },
  {
   "cell_type": "code",
   "execution_count": null,
   "id": "43f61676-70c4-4b42-9acc-b0e1ca5b69e3",
   "metadata": {},
   "outputs": [],
   "source": [
    "qty_post = alt.Chart(df).mark_area(opacity=0.5).encode(\n",
    "    x=\"age:Q\",\n",
    "    y=alt.Y(\"qty_post:Q\", stack=None),\n",
    "    color=\"gender:N\"\n",
    ").properties(\n",
    "    height=100,\n",
    "    width=1000\n",
    ")\n",
    "\n",
    "likes = alt.Chart(df).mark_area(opacity=0.5).encode(\n",
    "    x=\"age:Q\",\n",
    "    y=alt.Y(\"likes:Q\", stack=None),\n",
    "    color=\"gender:N\"\n",
    ").properties(\n",
    "    height=100,\n",
    "    width=1000\n",
    ")\n",
    "\n",
    "mobile_likes = alt.Chart(df).mark_area(opacity=0.5).encode(\n",
    "    x=\"age:Q\",\n",
    "    y=alt.Y(\"mobile_likes:Q\", stack=None),\n",
    "    color=\"gender:N\"\n",
    ").properties(\n",
    "    height=100,\n",
    "    width=1000\n",
    ")\n",
    "\n",
    "www_likes = alt.Chart(df).mark_area(opacity=0.5).encode(\n",
    "    x=\"age:Q\",\n",
    "    y=alt.Y(\"www_likes:Q\", stack=None),\n",
    "    color=\"gender:N\"\n",
    ").properties(\n",
    "    height=100,\n",
    "    width=1000\n",
    ")\n",
    "\n",
    "alt.vconcat(qty_post, likes, mobile_likes, www_likes)"
   ]
  }
 ],
 "metadata": {
  "kernelspec": {
   "display_name": "Python 3",
   "language": "python",
   "name": "python3"
  },
  "language_info": {
   "codemirror_mode": {
    "name": "ipython",
    "version": 3
   },
   "file_extension": ".py",
   "mimetype": "text/x-python",
   "name": "python",
   "nbconvert_exporter": "python",
   "pygments_lexer": "ipython3",
   "version": "3.8.8"
  }
 },
 "nbformat": 4,
 "nbformat_minor": 5
}
